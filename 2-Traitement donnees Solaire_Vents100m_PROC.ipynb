{
 "cells": [
  {
   "cell_type": "code",
   "execution_count": 1,
   "id": "10bf3711-836d-42a7-966f-bb86332c4947",
   "metadata": {},
   "outputs": [
    {
     "data": {
      "text/plain": [
       "'\\nCreated on Wed Feb  5 18:27:48 2025\\n@author: Thierry ALLEM\\n'"
      ]
     },
     "execution_count": 1,
     "metadata": {},
     "output_type": "execute_result"
    }
   ],
   "source": [
    "\"\"\"\n",
    "Created on Wed Feb  5 18:27:48 2025\n",
    "@author: Thierry ALLEM\n",
    "\"\"\""
   ]
  },
  {
   "cell_type": "code",
   "execution_count": 2,
   "id": "a13143a6-3a67-4841-b3c6-f1aa7b2deb11",
   "metadata": {},
   "outputs": [],
   "source": [
    "# TRAITEMENT DES DONNEES SUR LE RAYONNEMENT SOLAIRE ET LA VITESSE DU VENTS A 100M (pour l'étude sur la production des éoliennes)\n",
    "# Approximations sur la base d'une base de données de relevés tri-horaires"
   ]
  },
  {
   "cell_type": "code",
   "execution_count": 3,
   "id": "f1d29b0a-9478-454f-af88-e9a97a8198ce",
   "metadata": {},
   "outputs": [],
   "source": [
    "import pandas as pd\n",
    "import numpy as np\n",
    "import warnings\n",
    "warnings.filterwarnings('ignore')"
   ]
  },
  {
   "cell_type": "code",
   "execution_count": 4,
   "id": "762c6e75-1f1c-4d5b-907f-b513eee521bd",
   "metadata": {},
   "outputs": [
    {
     "data": {
      "text/html": [
       "<div>\n",
       "<style scoped>\n",
       "    .dataframe tbody tr th:only-of-type {\n",
       "        vertical-align: middle;\n",
       "    }\n",
       "\n",
       "    .dataframe tbody tr th {\n",
       "        vertical-align: top;\n",
       "    }\n",
       "\n",
       "    .dataframe thead th {\n",
       "        text-align: right;\n",
       "    }\n",
       "</style>\n",
       "<table border=\"1\" class=\"dataframe\">\n",
       "  <thead>\n",
       "    <tr style=\"text-align: right;\">\n",
       "      <th></th>\n",
       "      <th>date_heure</th>\n",
       "      <th>Code INSEE région</th>\n",
       "      <th>region</th>\n",
       "      <th>Vitesse du vent à 100m (m/s)</th>\n",
       "      <th>Rayonnement solaire global (W/m2)</th>\n",
       "    </tr>\n",
       "  </thead>\n",
       "  <tbody>\n",
       "    <tr>\n",
       "      <th>0</th>\n",
       "      <td>2016-10-11T05:00:00+02:00</td>\n",
       "      <td>84</td>\n",
       "      <td>Auvergne-Rhône-Alpes</td>\n",
       "      <td>4.10</td>\n",
       "      <td>0.00</td>\n",
       "    </tr>\n",
       "    <tr>\n",
       "      <th>1</th>\n",
       "      <td>2016-10-11T05:00:00+02:00</td>\n",
       "      <td>93</td>\n",
       "      <td>Provence-Alpes-Côte d'Azur</td>\n",
       "      <td>7.56</td>\n",
       "      <td>0.00</td>\n",
       "    </tr>\n",
       "    <tr>\n",
       "      <th>2</th>\n",
       "      <td>2016-10-11T08:00:00+02:00</td>\n",
       "      <td>27</td>\n",
       "      <td>Bourgogne-Franche-Comté</td>\n",
       "      <td>4.52</td>\n",
       "      <td>0.11</td>\n",
       "    </tr>\n",
       "    <tr>\n",
       "      <th>3</th>\n",
       "      <td>2016-10-11T08:00:00+02:00</td>\n",
       "      <td>84</td>\n",
       "      <td>Auvergne-Rhône-Alpes</td>\n",
       "      <td>4.05</td>\n",
       "      <td>0.07</td>\n",
       "    </tr>\n",
       "    <tr>\n",
       "      <th>4</th>\n",
       "      <td>2016-10-11T08:00:00+02:00</td>\n",
       "      <td>76</td>\n",
       "      <td>Occitanie</td>\n",
       "      <td>7.42</td>\n",
       "      <td>0.00</td>\n",
       "    </tr>\n",
       "  </tbody>\n",
       "</table>\n",
       "</div>"
      ],
      "text/plain": [
       "                  date_heure  Code INSEE région                      region  \\\n",
       "0  2016-10-11T05:00:00+02:00                 84        Auvergne-Rhône-Alpes   \n",
       "1  2016-10-11T05:00:00+02:00                 93  Provence-Alpes-Côte d'Azur   \n",
       "2  2016-10-11T08:00:00+02:00                 27     Bourgogne-Franche-Comté   \n",
       "3  2016-10-11T08:00:00+02:00                 84        Auvergne-Rhône-Alpes   \n",
       "4  2016-10-11T08:00:00+02:00                 76                   Occitanie   \n",
       "\n",
       "   Vitesse du vent à 100m (m/s)  Rayonnement solaire global (W/m2)  \n",
       "0                          4.10                               0.00  \n",
       "1                          7.56                               0.00  \n",
       "2                          4.52                               0.11  \n",
       "3                          4.05                               0.07  \n",
       "4                          7.42                               0.00  "
      ]
     },
     "execution_count": 4,
     "metadata": {},
     "output_type": "execute_result"
    }
   ],
   "source": [
    "# Importation du fichier des relevés de températures\n",
    "# Lecture du fichier CSV\n",
    "df_vent_100m_solaire_3h = pd.read_csv(\"solaire_vent_regions.csv\", sep=';', encoding='utf-8')\n",
    "df_vent_100m_solaire_3h.head()"
   ]
  },
  {
   "cell_type": "code",
   "execution_count": 5,
   "id": "75b7d58e-2213-41b4-b325-6bb233c740a8",
   "metadata": {},
   "outputs": [
    {
     "name": "stdout",
     "output_type": "stream",
     "text": [
      "<class 'pandas.core.frame.DataFrame'>\n",
      "RangeIndex: 339351 entries, 0 to 339350\n",
      "Data columns (total 5 columns):\n",
      " #   Column                             Non-Null Count   Dtype  \n",
      "---  ------                             --------------   -----  \n",
      " 0   date_heure                         339351 non-null  object \n",
      " 1   Code INSEE région                  339351 non-null  int64  \n",
      " 2   region                             339351 non-null  object \n",
      " 3   Vitesse du vent à 100m (m/s)       339351 non-null  float64\n",
      " 4   Rayonnement solaire global (W/m2)  339351 non-null  float64\n",
      "dtypes: float64(2), int64(1), object(2)\n",
      "memory usage: 12.9+ MB\n"
     ]
    }
   ],
   "source": [
    "df_vent_100m_solaire_3h.info()"
   ]
  },
  {
   "cell_type": "code",
   "execution_count": 6,
   "id": "dbdd6ef2-3051-4726-9708-e1d524bb74f0",
   "metadata": {},
   "outputs": [
    {
     "name": "stdout",
     "output_type": "stream",
     "text": [
      "<class 'pandas.core.frame.DataFrame'>\n",
      "RangeIndex: 339351 entries, 0 to 339350\n",
      "Data columns (total 8 columns):\n",
      " #   Column                             Non-Null Count   Dtype         \n",
      "---  ------                             --------------   -----         \n",
      " 0   date_heure                         339351 non-null  datetime64[ns]\n",
      " 1   Code INSEE région                  339351 non-null  int64         \n",
      " 2   region                             339351 non-null  object        \n",
      " 3   Vitesse du vent à 100m (m/s)       339351 non-null  float64       \n",
      " 4   Rayonnement solaire global (W/m2)  339351 non-null  float64       \n",
      " 5   annee                              339351 non-null  int32         \n",
      " 6   date                               339351 non-null  object        \n",
      " 7   heure                              339351 non-null  object        \n",
      "dtypes: datetime64[ns](1), float64(2), int32(1), int64(1), object(3)\n",
      "memory usage: 19.4+ MB\n"
     ]
    },
    {
     "data": {
      "text/plain": [
       "array(['03:00', '06:00', '09:00', '12:00', '18:00', '21:00', '00:00',\n",
       "       '15:00'], dtype=object)"
      ]
     },
     "execution_count": 6,
     "metadata": {},
     "output_type": "execute_result"
    }
   ],
   "source": [
    "# Conversion de la colonne 'date_heure' en datetime\n",
    "df_vent_100m_solaire_3h['date_heure'] = pd.to_datetime(df_vent_100m_solaire_3h['date_heure'], errors='coerce', utc=True)\n",
    "df_vent_100m_solaire_3h[\"date_heure\"] = df_vent_100m_solaire_3h[\"date_heure\"].dt.tz_localize(None)\n",
    "\n",
    "\n",
    "# Extraction de l'année\n",
    "df_vent_100m_solaire_3h['annee'] = df_vent_100m_solaire_3h['date_heure'].dt.year\n",
    "\n",
    "# Ajout d'une colonne 'date' avec le format 'yyyy-mm-dd'\n",
    "df_vent_100m_solaire_3h['date'] = df_vent_100m_solaire_3h['date_heure'].dt.strftime('%Y-%m-%d')\n",
    "\n",
    "# Ajout d'une colonne 'heure' à l'heure française\n",
    "df_vent_100m_solaire_3h['heure'] = df_vent_100m_solaire_3h['date_heure'].dt.strftime('%H:%M')\n",
    "df_vent_100m_solaire_3h.info()\n",
    "df_vent_100m_solaire_3h['annee'].unique()\n",
    "df_vent_100m_solaire_3h['heure'].unique()"
   ]
  },
  {
   "cell_type": "code",
   "execution_count": 7,
   "id": "3081b09d-6a6f-4066-b959-a566d61934b1",
   "metadata": {},
   "outputs": [],
   "source": [
    "# Filtrage des années pour limiter le dataset de 2013 à 2022 inclus\n",
    "df_vent_100m_solaire_3h = df_vent_100m_solaire_3h[(df_vent_100m_solaire_3h[\"annee\"] >= 2013) & (df_vent_100m_solaire_3h[\"annee\"] <= 2022)]"
   ]
  },
  {
   "cell_type": "code",
   "execution_count": 8,
   "id": "2020d555-985a-45b3-b991-972ca1d7027a",
   "metadata": {},
   "outputs": [
    {
     "data": {
      "text/plain": [
       "array(['Auvergne-Rhône-Alpes', \"Provence-Alpes-Côte d'Azur\",\n",
       "       'Bourgogne-Franche-Comté', 'Occitanie', 'Grand Est',\n",
       "       'Centre-Val de Loire', 'Île-de-France', 'Nouvelle-Aquitaine',\n",
       "       'Normandie', 'Hauts-de-France', 'Pays de la Loire', 'Corse',\n",
       "       'Bretagne'], dtype=object)"
      ]
     },
     "execution_count": 8,
     "metadata": {},
     "output_type": "execute_result"
    }
   ],
   "source": [
    "# Liste des régions\n",
    "df_vent_100m_solaire_3h['region'].unique()"
   ]
  },
  {
   "cell_type": "code",
   "execution_count": 9,
   "id": "8e804a08-5fa3-4b9d-8949-d1a8a0e69057",
   "metadata": {},
   "outputs": [
    {
     "data": {
      "text/plain": [
       "array(['Auvergne-Rhône-Alpes', \"Provence-Alpes-Côte d'Azur\",\n",
       "       'Bourgogne-Franche-Comté', 'Occitanie', 'Grand Est',\n",
       "       'Centre-Val de Loire', 'Île-de-France', 'Nouvelle-Aquitaine',\n",
       "       'Normandie', 'Hauts-de-France', 'Pays de la Loire', 'Bretagne'],\n",
       "      dtype=object)"
      ]
     },
     "execution_count": 9,
     "metadata": {},
     "output_type": "execute_result"
    }
   ],
   "source": [
    "# Suppression des lignes de régions non concernées par cette étude\n",
    "regions_a_exclure = [np.nan, 'Corse']\n",
    "df_vent_100m_solaire_3h = df_vent_100m_solaire_3h[~df_vent_100m_solaire_3h['region'].isin(regions_a_exclure)]\n",
    "df_vent_100m_solaire_3h['region'].unique()"
   ]
  },
  {
   "cell_type": "code",
   "execution_count": 10,
   "id": "19f3214f-561d-45d0-bd04-7caf62b95198",
   "metadata": {},
   "outputs": [
    {
     "data": {
      "text/plain": [
       "array(['AUVERGNE RHONE ALPES', 'PROVENCE ALPES COTE D AZUR',\n",
       "       'BOURGOGNE FRANCHE COMTE', 'OCCITANIE', 'GRAND EST',\n",
       "       'CENTRE VAL DE LOIRE', 'ILE DE FRANCE', 'NOUVELLE AQUITAINE',\n",
       "       'NORMANDIE', 'HAUTS DE FRANCE', 'PAYS DE LA LOIRE', 'BRETAGNE'],\n",
       "      dtype=object)"
      ]
     },
     "execution_count": 10,
     "metadata": {},
     "output_type": "execute_result"
    }
   ],
   "source": [
    "# Renommage des valeurs de 'region'\n",
    "renommage_regions = {\n",
    "    'Occitanie': 'OCCITANIE',\n",
    "    'Normandie': 'NORMANDIE',\n",
    "    'Bretagne': 'BRETAGNE',\n",
    "    'Provence-Alpes-Côte d\\'Azur': 'PROVENCE ALPES COTE D AZUR',\n",
    "    'Hauts-de-France': 'HAUTS DE FRANCE',\n",
    "    'Île-de-France': 'ILE DE FRANCE',\n",
    "    'Grand Est': 'GRAND EST',\n",
    "    'Nouvelle-Aquitaine': 'NOUVELLE AQUITAINE',\n",
    "    'Bourgogne-Franche-Comté': 'BOURGOGNE FRANCHE COMTE',\n",
    "    'Pays de la Loire': 'PAYS DE LA LOIRE',\n",
    "    'Auvergne-Rhône-Alpes': 'AUVERGNE RHONE ALPES',\n",
    "    'Centre-Val de Loire': 'CENTRE VAL DE LOIRE'\n",
    "}\n",
    "df_vent_100m_solaire_3h['region'] = df_vent_100m_solaire_3h['region'].replace(renommage_regions)\n",
    "df_vent_100m_solaire_3h['region'].unique()"
   ]
  },
  {
   "cell_type": "code",
   "execution_count": 11,
   "id": "25929529-ee14-48c4-97e9-cca240b3aa17",
   "metadata": {},
   "outputs": [],
   "source": [
    "# INTERPOLATION DES DONNEES SUR LA PERIODE 2013 -2022 PAR PAS DE 30 MINUTES\n",
    "\n",
    "# Création de la plage temporelle de 2013-01-01 à 2022-12-31 avec un pas de 30 minutes\n",
    "date_range = pd.date_range(\"2013-01-01 00:00\", \"2022-12-31 23:30\", freq=\"30min\")\n",
    "\n",
    "# Liste des régions \n",
    "regions = df_vent_100m_solaire_3h['region'].unique()\n",
    "\n",
    "# Construction du DataFrame initial \n",
    "df_base = pd.DataFrame({\"date_heure\": np.tile(date_range, len(regions)),\n",
    "                        \"region\": np.repeat(regions, len(date_range))})\n",
    "\n",
    "# Fusion des données initiales\n",
    "merged_df = pd.merge(df_base, df_vent_100m_solaire_3h,\n",
    "                      on=[\"date_heure\", \"region\"],\n",
    "                      how=\"left\")\n",
    "\n",
    "# Traitement des années 2013-2015 \n",
    "merged_df['annee'] = merged_df['date_heure'].dt.year\n",
    "mask_zeros = merged_df['annee'].isin([2013, 2014, 2015])\n",
    "merged_df.loc[mask_zeros, ['Vitesse du vent à 100m (m/s)', 'Rayonnement solaire global (W/m2)']] = 0.0\n",
    "\n",
    "# Interpolation des valeurs par région\n",
    "merged_df.sort_values(by=['region', 'date_heure'], inplace=True)\n",
    "merged_df[['Vitesse du vent à 100m (m/s)', 'Rayonnement solaire global (W/m2)']] = (\n",
    "    merged_df.groupby('region', group_keys=False)[['Vitesse du vent à 100m (m/s)', 'Rayonnement solaire global (W/m2)']]\n",
    "    .apply(lambda group: group.interpolate(method='linear'))\n",
    ")"
   ]
  },
  {
   "cell_type": "code",
   "execution_count": 12,
   "id": "98dd2383-c1b7-4145-9add-84d29a87c931",
   "metadata": {},
   "outputs": [
    {
     "name": "stdout",
     "output_type": "stream",
     "text": [
      "<class 'pandas.core.frame.DataFrame'>\n",
      "Index: 2104044 entries, 0 to 350673\n",
      "Data columns (total 4 columns):\n",
      " #   Column                             Dtype         \n",
      "---  ------                             -----         \n",
      " 0   date_heure                         datetime64[ns]\n",
      " 1   region                             object        \n",
      " 2   Vitesse du vent à 100m (m/s)       float64       \n",
      " 3   Rayonnement solaire global (W/m2)  float64       \n",
      "dtypes: datetime64[ns](1), float64(2), object(1)\n",
      "memory usage: 80.3+ MB\n"
     ]
    }
   ],
   "source": [
    "# Nettoyage des colonnes inutiles\n",
    "df_vent_100m_solaire_30min = merged_df[['date_heure', 'region', 'Vitesse du vent à 100m (m/s)', 'Rayonnement solaire global (W/m2)']]\n",
    "df_vent_100m_solaire_30min.info()"
   ]
  },
  {
   "cell_type": "code",
   "execution_count": 13,
   "id": "93f6df6c-1a1f-400f-8487-ae6b55c58101",
   "metadata": {},
   "outputs": [
    {
     "name": "stdout",
     "output_type": "stream",
     "text": [
      "<class 'pandas.core.frame.DataFrame'>\n",
      "Index: 2104044 entries, 0 to 350673\n",
      "Data columns (total 4 columns):\n",
      " #   Column                               Dtype         \n",
      "---  ------                               -----         \n",
      " 0   date_heure                           datetime64[ns]\n",
      " 1   region                               object        \n",
      " 2   vitesse_vent_100m_m_par_s            float64       \n",
      " 3   rayonnement_solaire_global_W_par_m2  float64       \n",
      "dtypes: datetime64[ns](1), float64(2), object(1)\n",
      "memory usage: 80.3+ MB\n"
     ]
    }
   ],
   "source": [
    "# Renommage de noms de colonnes\n",
    "\n",
    "colonnes_a_renommer = {'Vitesse du vent à 100m (m/s)':'vitesse_vent_100m_m_par_s',\n",
    "                       'Rayonnement solaire global (W/m2)':'rayonnement_solaire_global_W_par_m2'}\n",
    "df_vent_100m_solaire_30min=df_vent_100m_solaire_30min.rename(columns=colonnes_a_renommer)\n",
    "df_vent_100m_solaire_30min.info()"
   ]
  },
  {
   "cell_type": "code",
   "execution_count": 14,
   "id": "f7ee8a34-12f5-427a-b1f8-de1a1247aea6",
   "metadata": {},
   "outputs": [
    {
     "data": {
      "text/html": [
       "<div>\n",
       "<style scoped>\n",
       "    .dataframe tbody tr th:only-of-type {\n",
       "        vertical-align: middle;\n",
       "    }\n",
       "\n",
       "    .dataframe tbody tr th {\n",
       "        vertical-align: top;\n",
       "    }\n",
       "\n",
       "    .dataframe thead th {\n",
       "        text-align: right;\n",
       "    }\n",
       "</style>\n",
       "<table border=\"1\" class=\"dataframe\">\n",
       "  <thead>\n",
       "    <tr style=\"text-align: right;\">\n",
       "      <th></th>\n",
       "      <th>date_heure</th>\n",
       "      <th>region</th>\n",
       "      <th>vitesse_vent_100m_m_par_s</th>\n",
       "      <th>rayonnement_solaire_global_W_par_m2</th>\n",
       "    </tr>\n",
       "  </thead>\n",
       "  <tbody>\n",
       "    <tr>\n",
       "      <th>0</th>\n",
       "      <td>2013-01-01 00:00:00</td>\n",
       "      <td>AUVERGNE RHONE ALPES</td>\n",
       "      <td>0.0</td>\n",
       "      <td>0.0</td>\n",
       "    </tr>\n",
       "    <tr>\n",
       "      <th>1</th>\n",
       "      <td>2013-01-01 00:30:00</td>\n",
       "      <td>AUVERGNE RHONE ALPES</td>\n",
       "      <td>0.0</td>\n",
       "      <td>0.0</td>\n",
       "    </tr>\n",
       "    <tr>\n",
       "      <th>2</th>\n",
       "      <td>2013-01-01 01:00:00</td>\n",
       "      <td>AUVERGNE RHONE ALPES</td>\n",
       "      <td>0.0</td>\n",
       "      <td>0.0</td>\n",
       "    </tr>\n",
       "    <tr>\n",
       "      <th>3</th>\n",
       "      <td>2013-01-01 01:30:00</td>\n",
       "      <td>AUVERGNE RHONE ALPES</td>\n",
       "      <td>0.0</td>\n",
       "      <td>0.0</td>\n",
       "    </tr>\n",
       "    <tr>\n",
       "      <th>4</th>\n",
       "      <td>2013-01-01 02:00:00</td>\n",
       "      <td>AUVERGNE RHONE ALPES</td>\n",
       "      <td>0.0</td>\n",
       "      <td>0.0</td>\n",
       "    </tr>\n",
       "    <tr>\n",
       "      <th>5</th>\n",
       "      <td>2013-01-01 02:30:00</td>\n",
       "      <td>AUVERGNE RHONE ALPES</td>\n",
       "      <td>0.0</td>\n",
       "      <td>0.0</td>\n",
       "    </tr>\n",
       "    <tr>\n",
       "      <th>6</th>\n",
       "      <td>2013-01-01 03:00:00</td>\n",
       "      <td>AUVERGNE RHONE ALPES</td>\n",
       "      <td>0.0</td>\n",
       "      <td>0.0</td>\n",
       "    </tr>\n",
       "    <tr>\n",
       "      <th>7</th>\n",
       "      <td>2013-01-01 03:30:00</td>\n",
       "      <td>AUVERGNE RHONE ALPES</td>\n",
       "      <td>0.0</td>\n",
       "      <td>0.0</td>\n",
       "    </tr>\n",
       "    <tr>\n",
       "      <th>8</th>\n",
       "      <td>2013-01-01 04:00:00</td>\n",
       "      <td>AUVERGNE RHONE ALPES</td>\n",
       "      <td>0.0</td>\n",
       "      <td>0.0</td>\n",
       "    </tr>\n",
       "    <tr>\n",
       "      <th>9</th>\n",
       "      <td>2013-01-01 04:30:00</td>\n",
       "      <td>AUVERGNE RHONE ALPES</td>\n",
       "      <td>0.0</td>\n",
       "      <td>0.0</td>\n",
       "    </tr>\n",
       "    <tr>\n",
       "      <th>10</th>\n",
       "      <td>2013-01-01 05:00:00</td>\n",
       "      <td>AUVERGNE RHONE ALPES</td>\n",
       "      <td>0.0</td>\n",
       "      <td>0.0</td>\n",
       "    </tr>\n",
       "    <tr>\n",
       "      <th>11</th>\n",
       "      <td>2013-01-01 05:30:00</td>\n",
       "      <td>AUVERGNE RHONE ALPES</td>\n",
       "      <td>0.0</td>\n",
       "      <td>0.0</td>\n",
       "    </tr>\n",
       "    <tr>\n",
       "      <th>12</th>\n",
       "      <td>2013-01-01 06:00:00</td>\n",
       "      <td>AUVERGNE RHONE ALPES</td>\n",
       "      <td>0.0</td>\n",
       "      <td>0.0</td>\n",
       "    </tr>\n",
       "    <tr>\n",
       "      <th>13</th>\n",
       "      <td>2013-01-01 06:30:00</td>\n",
       "      <td>AUVERGNE RHONE ALPES</td>\n",
       "      <td>0.0</td>\n",
       "      <td>0.0</td>\n",
       "    </tr>\n",
       "    <tr>\n",
       "      <th>14</th>\n",
       "      <td>2013-01-01 07:00:00</td>\n",
       "      <td>AUVERGNE RHONE ALPES</td>\n",
       "      <td>0.0</td>\n",
       "      <td>0.0</td>\n",
       "    </tr>\n",
       "    <tr>\n",
       "      <th>15</th>\n",
       "      <td>2013-01-01 07:30:00</td>\n",
       "      <td>AUVERGNE RHONE ALPES</td>\n",
       "      <td>0.0</td>\n",
       "      <td>0.0</td>\n",
       "    </tr>\n",
       "    <tr>\n",
       "      <th>16</th>\n",
       "      <td>2013-01-01 08:00:00</td>\n",
       "      <td>AUVERGNE RHONE ALPES</td>\n",
       "      <td>0.0</td>\n",
       "      <td>0.0</td>\n",
       "    </tr>\n",
       "    <tr>\n",
       "      <th>17</th>\n",
       "      <td>2013-01-01 08:30:00</td>\n",
       "      <td>AUVERGNE RHONE ALPES</td>\n",
       "      <td>0.0</td>\n",
       "      <td>0.0</td>\n",
       "    </tr>\n",
       "    <tr>\n",
       "      <th>18</th>\n",
       "      <td>2013-01-01 09:00:00</td>\n",
       "      <td>AUVERGNE RHONE ALPES</td>\n",
       "      <td>0.0</td>\n",
       "      <td>0.0</td>\n",
       "    </tr>\n",
       "    <tr>\n",
       "      <th>19</th>\n",
       "      <td>2013-01-01 09:30:00</td>\n",
       "      <td>AUVERGNE RHONE ALPES</td>\n",
       "      <td>0.0</td>\n",
       "      <td>0.0</td>\n",
       "    </tr>\n",
       "  </tbody>\n",
       "</table>\n",
       "</div>"
      ],
      "text/plain": [
       "            date_heure                region  vitesse_vent_100m_m_par_s  \\\n",
       "0  2013-01-01 00:00:00  AUVERGNE RHONE ALPES                        0.0   \n",
       "1  2013-01-01 00:30:00  AUVERGNE RHONE ALPES                        0.0   \n",
       "2  2013-01-01 01:00:00  AUVERGNE RHONE ALPES                        0.0   \n",
       "3  2013-01-01 01:30:00  AUVERGNE RHONE ALPES                        0.0   \n",
       "4  2013-01-01 02:00:00  AUVERGNE RHONE ALPES                        0.0   \n",
       "5  2013-01-01 02:30:00  AUVERGNE RHONE ALPES                        0.0   \n",
       "6  2013-01-01 03:00:00  AUVERGNE RHONE ALPES                        0.0   \n",
       "7  2013-01-01 03:30:00  AUVERGNE RHONE ALPES                        0.0   \n",
       "8  2013-01-01 04:00:00  AUVERGNE RHONE ALPES                        0.0   \n",
       "9  2013-01-01 04:30:00  AUVERGNE RHONE ALPES                        0.0   \n",
       "10 2013-01-01 05:00:00  AUVERGNE RHONE ALPES                        0.0   \n",
       "11 2013-01-01 05:30:00  AUVERGNE RHONE ALPES                        0.0   \n",
       "12 2013-01-01 06:00:00  AUVERGNE RHONE ALPES                        0.0   \n",
       "13 2013-01-01 06:30:00  AUVERGNE RHONE ALPES                        0.0   \n",
       "14 2013-01-01 07:00:00  AUVERGNE RHONE ALPES                        0.0   \n",
       "15 2013-01-01 07:30:00  AUVERGNE RHONE ALPES                        0.0   \n",
       "16 2013-01-01 08:00:00  AUVERGNE RHONE ALPES                        0.0   \n",
       "17 2013-01-01 08:30:00  AUVERGNE RHONE ALPES                        0.0   \n",
       "18 2013-01-01 09:00:00  AUVERGNE RHONE ALPES                        0.0   \n",
       "19 2013-01-01 09:30:00  AUVERGNE RHONE ALPES                        0.0   \n",
       "\n",
       "    rayonnement_solaire_global_W_par_m2  \n",
       "0                                   0.0  \n",
       "1                                   0.0  \n",
       "2                                   0.0  \n",
       "3                                   0.0  \n",
       "4                                   0.0  \n",
       "5                                   0.0  \n",
       "6                                   0.0  \n",
       "7                                   0.0  \n",
       "8                                   0.0  \n",
       "9                                   0.0  \n",
       "10                                  0.0  \n",
       "11                                  0.0  \n",
       "12                                  0.0  \n",
       "13                                  0.0  \n",
       "14                                  0.0  \n",
       "15                                  0.0  \n",
       "16                                  0.0  \n",
       "17                                  0.0  \n",
       "18                                  0.0  \n",
       "19                                  0.0  "
      ]
     },
     "execution_count": 14,
     "metadata": {},
     "output_type": "execute_result"
    }
   ],
   "source": [
    "df_vent_100m_solaire_30min.head(20)"
   ]
  },
  {
   "cell_type": "code",
   "execution_count": 15,
   "id": "71e1ca95-ccc2-4c6a-8195-4cc37d26059c",
   "metadata": {},
   "outputs": [],
   "source": [
    "# Tri et sauvegarde des résultats\n",
    "df_vent_100m_solaire_30min = df_vent_100m_solaire_30min.sort_values(['region', 'date_heure'])\n",
    "df_vent_100m_solaire_30min.to_csv(\"df_vent_100m_solaire_30min.csv\", sep=';',index=False)"
   ]
  }
 ],
 "metadata": {
  "kernelspec": {
   "display_name": "Python 3 (ipykernel)",
   "language": "python",
   "name": "python3"
  },
  "language_info": {
   "codemirror_mode": {
    "name": "ipython",
    "version": 3
   },
   "file_extension": ".py",
   "mimetype": "text/x-python",
   "name": "python",
   "nbconvert_exporter": "python",
   "pygments_lexer": "ipython3",
   "version": "3.12.9"
  }
 },
 "nbformat": 4,
 "nbformat_minor": 5
}
